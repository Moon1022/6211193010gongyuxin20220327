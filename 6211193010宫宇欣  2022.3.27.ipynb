{
 "cells": [
  {
   "cell_type": "code",
   "execution_count": 99,
   "id": "4046e199",
   "metadata": {},
   "outputs": [
    {
     "name": "stdout",
     "output_type": "stream",
     "text": [
      "('juzi', 'putao', 'pingguo')\n",
      "('xigua', 'xiangjiao')\n",
      "('baicai', 'qincai', 'fanqie')\n",
      "('juzi', 'putao', 'pingguo', 'xigua', 'xiangjiao', 'baicai', 'qincai', 'fanqie')\n",
      "8\n",
      "蔬菜种类有 8 种\n",
      "('juzi', 'putao', 'pingguo', 'xigua', 'xiangjiao', 'baicai', 'qincai', 'fanqie', 'jinzhengu', 'kele')\n",
      "['putao', 'pingguo', 'xigua', 'xiangjiao']\n",
      "['juzi', 'putao', 'pingguo']\n",
      "['qincai', 'fanqie', 'jinzhengu']\n",
      "False\n",
      "True\n"
     ]
    }
   ],
   "source": [
    "fruits1=('juzi','putao','pingguo')\n",
    "fruits2=('xigua','xiangjiao')\n",
    "vegetables1=('baicai','qincai','fanqie')\n",
    "print(fruits1)\n",
    "print(fruits2)\n",
    "print(vegetables1)\n",
    "fruits_vegetables = (fruits1 + fruits2 + vegetables1)\n",
    "print(fruits_vegetables )\n",
    "print(len(fruits_vegetables))\n",
    "a = len(fruits1)+len(fruits2)+len(vegetables1)\n",
    "print(\"蔬菜种类有\",a,\"种\")\n",
    "food_tuple =fruits_vegetables + (\"jinzhengu\",) + (\"kele\",)\n",
    "print(food_tuple)\n",
    "food_tuple = list(food_tuple)\n",
    "print(food_tuple[1:5])\n",
    "print(food_tuple[0:3])\n",
    "print(food_tuple[6:9])\n",
    "del food_tuple\n",
    "\n",
    "asian_countries = ('India','China','Singapore','Thailand','Indonesia')\n",
    "print('Finland' in asian_countries)\n",
    "print( 'India' in asian_countries)"
   ]
  },
  {
   "cell_type": "code",
   "execution_count": null,
   "id": "e913c837",
   "metadata": {},
   "outputs": [],
   "source": []
  },
  {
   "cell_type": "code",
   "execution_count": null,
   "id": "aab9c074",
   "metadata": {},
   "outputs": [],
   "source": []
  },
  {
   "cell_type": "code",
   "execution_count": null,
   "id": "441b6887",
   "metadata": {},
   "outputs": [],
   "source": []
  },
  {
   "cell_type": "code",
   "execution_count": null,
   "id": "c9b1e121",
   "metadata": {},
   "outputs": [],
   "source": []
  },
  {
   "cell_type": "code",
   "execution_count": null,
   "id": "2c34d795",
   "metadata": {},
   "outputs": [],
   "source": []
  },
  {
   "cell_type": "code",
   "execution_count": null,
   "id": "93ec6f84",
   "metadata": {},
   "outputs": [],
   "source": []
  }
 ],
 "metadata": {
  "kernelspec": {
   "display_name": "Python 3 (ipykernel)",
   "language": "python",
   "name": "python3"
  },
  "language_info": {
   "codemirror_mode": {
    "name": "ipython",
    "version": 3
   },
   "file_extension": ".py",
   "mimetype": "text/x-python",
   "name": "python",
   "nbconvert_exporter": "python",
   "pygments_lexer": "ipython3",
   "version": "3.9.7"
  }
 },
 "nbformat": 4,
 "nbformat_minor": 5
}
